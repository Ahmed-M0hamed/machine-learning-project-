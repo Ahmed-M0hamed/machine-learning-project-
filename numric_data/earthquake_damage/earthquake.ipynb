{
 "cells": [
  {
   "cell_type": "markdown",
   "id": "5eb48477",
   "metadata": {},
   "source": [
    "## import our needs \n"
   ]
  },
  {
   "cell_type": "code",
   "execution_count": null,
   "id": "531b8077",
   "metadata": {},
   "outputs": [],
   "source": [
    "import os \n",
    "import pandas as pd \n",
    "import numpy as np \n",
    "from sklearn.model_selection import train_test_split , cross_val_score\n",
    "from sklearn.preprocessing import StandardScaler , OneHotEncoder\n",
    "from sklearn.pipeline import Pipeline , FeatureUnion\n",
    "from sklearn.base import BaseEstimator, TransformerMixin\n",
    "from sklearn.ensemble import RandomForestClassifier\n",
    "from sklearn.metrics  import accuracy_score , make_scorer\n",
    "\n"
   ]
  },
  {
   "cell_type": "markdown",
   "id": "06e48f8c",
   "metadata": {},
   "source": [
    "## load the data \n",
    "you can load the data from here https://www.drivendata.org/accounts/login/?next=/competitions/57/nepal-earthquake/"
   ]
  },
  {
   "cell_type": "code",
   "execution_count": 5,
   "id": "a2512738",
   "metadata": {},
   "outputs": [],
   "source": [
    "path = # 'your data path'  \n",
    "train_data = pd.read_csv(os.path.join(path , 'train_values.csv'))\n",
    "train_labels = pd.read_csv(os.path.join(path , 'train_labels.csv'))"
   ]
  },
  {
   "cell_type": "code",
   "execution_count": 14,
   "id": "faa1b6e4",
   "metadata": {},
   "outputs": [
    {
     "data": {
      "text/plain": [
       "array(['t', 's', 'j', 'o'], dtype=object)"
      ]
     },
     "execution_count": 14,
     "metadata": {},
     "output_type": "execute_result"
    }
   ],
   "source": [
    "train_data.head()"
   ]
  },
  {
   "cell_type": "code",
   "execution_count": 7,
   "id": "02b9ce0b",
   "metadata": {},
   "outputs": [
    {
     "name": "stdout",
     "output_type": "stream",
     "text": [
      "<class 'pandas.core.frame.DataFrame'>\n",
      "RangeIndex: 260601 entries, 0 to 260600\n",
      "Data columns (total 39 columns):\n",
      " #   Column                                  Non-Null Count   Dtype \n",
      "---  ------                                  --------------   ----- \n",
      " 0   building_id                             260601 non-null  int64 \n",
      " 1   geo_level_1_id                          260601 non-null  int64 \n",
      " 2   geo_level_2_id                          260601 non-null  int64 \n",
      " 3   geo_level_3_id                          260601 non-null  int64 \n",
      " 4   count_floors_pre_eq                     260601 non-null  int64 \n",
      " 5   age                                     260601 non-null  int64 \n",
      " 6   area_percentage                         260601 non-null  int64 \n",
      " 7   height_percentage                       260601 non-null  int64 \n",
      " 8   land_surface_condition                  260601 non-null  object\n",
      " 9   foundation_type                         260601 non-null  object\n",
      " 10  roof_type                               260601 non-null  object\n",
      " 11  ground_floor_type                       260601 non-null  object\n",
      " 12  other_floor_type                        260601 non-null  object\n",
      " 13  position                                260601 non-null  object\n",
      " 14  plan_configuration                      260601 non-null  object\n",
      " 15  has_superstructure_adobe_mud            260601 non-null  int64 \n",
      " 16  has_superstructure_mud_mortar_stone     260601 non-null  int64 \n",
      " 17  has_superstructure_stone_flag           260601 non-null  int64 \n",
      " 18  has_superstructure_cement_mortar_stone  260601 non-null  int64 \n",
      " 19  has_superstructure_mud_mortar_brick     260601 non-null  int64 \n",
      " 20  has_superstructure_cement_mortar_brick  260601 non-null  int64 \n",
      " 21  has_superstructure_timber               260601 non-null  int64 \n",
      " 22  has_superstructure_bamboo               260601 non-null  int64 \n",
      " 23  has_superstructure_rc_non_engineered    260601 non-null  int64 \n",
      " 24  has_superstructure_rc_engineered        260601 non-null  int64 \n",
      " 25  has_superstructure_other                260601 non-null  int64 \n",
      " 26  legal_ownership_status                  260601 non-null  object\n",
      " 27  count_families                          260601 non-null  int64 \n",
      " 28  has_secondary_use                       260601 non-null  int64 \n",
      " 29  has_secondary_use_agriculture           260601 non-null  int64 \n",
      " 30  has_secondary_use_hotel                 260601 non-null  int64 \n",
      " 31  has_secondary_use_rental                260601 non-null  int64 \n",
      " 32  has_secondary_use_institution           260601 non-null  int64 \n",
      " 33  has_secondary_use_school                260601 non-null  int64 \n",
      " 34  has_secondary_use_industry              260601 non-null  int64 \n",
      " 35  has_secondary_use_health_post           260601 non-null  int64 \n",
      " 36  has_secondary_use_gov_office            260601 non-null  int64 \n",
      " 37  has_secondary_use_use_police            260601 non-null  int64 \n",
      " 38  has_secondary_use_other                 260601 non-null  int64 \n",
      "dtypes: int64(31), object(8)\n",
      "memory usage: 77.5+ MB\n"
     ]
    }
   ],
   "source": [
    "train_data.info()"
   ]
  },
  {
   "cell_type": "markdown",
   "id": "3975cd2a",
   "metadata": {},
   "source": [
    "## preprocess data "
   ]
  },
  {
   "cell_type": "code",
   "execution_count": 24,
   "id": "d8166777",
   "metadata": {},
   "outputs": [],
   "source": [
    "# convert labels to zero index \n",
    "labels = train_labels['damage_grade'] - 1"
   ]
  },
  {
   "cell_type": "code",
   "execution_count": 35,
   "id": "b4cebfb6",
   "metadata": {},
   "outputs": [],
   "source": [
    "# ourt custom class to select features from dataframe \n",
    "class DataFrameSelector(BaseEstimator, TransformerMixin):\n",
    "    def __init__(self, attribute_names):\n",
    "        self.attribute_names=attribute_names\n",
    "    def fit(self, X, y=None):\n",
    "        return self\n",
    "    def transform(self, X):\n",
    "        return X[self.attribute_names].values\n"
   ]
  },
  {
   "cell_type": "code",
   "execution_count": 17,
   "id": "da09f8ee",
   "metadata": {},
   "outputs": [],
   "source": [
    "# selet feature types \n",
    "features = train_data.columns \n",
    "numric_columns = features[1:8]\n",
    "cats_columns = features[8:]"
   ]
  },
  {
   "cell_type": "code",
   "execution_count": 38,
   "id": "ef15b3f5",
   "metadata": {},
   "outputs": [],
   "source": [
    "# our pipelines to process the data \n",
    "numric_pipeline = Pipeline([('selector' , DataFrameSelector(numric_columns)) \n",
    "                            , ('scaler' , StandardScaler())])\n",
    "cat_pipeline = Pipeline([('selector',  DataFrameSelector(cats_columns)) , \n",
    "                         ('encoding' , OneHotEncoder())] )\n",
    "data_pipeline = FeatureUnion(transformer_list = [\n",
    "    ('numirc_pipeline' , numric_pipeline) , \n",
    "    ('cat_pipeline' , cat_pipeline)\n",
    "])"
   ]
  },
  {
   "cell_type": "code",
   "execution_count": 46,
   "id": "4a560d23",
   "metadata": {},
   "outputs": [],
   "source": [
    "preprocessed_data = data_pipeline.fit_transform(train_data)"
   ]
  },
  {
   "cell_type": "code",
   "execution_count": 48,
   "id": "c96ae089",
   "metadata": {},
   "outputs": [],
   "source": [
    "# modeling your data \n",
    "scorer = make_scorer(accuracy_score)\n",
    "rfc = RandomForestClassifier() \n",
    "cross_val = cross_val_score(rfc ,preprocessed_data , labels, scoring = scorer ) \n"
   ]
  }
 ],
 "metadata": {
  "kernelspec": {
   "display_name": "Python 3 (ipykernel)",
   "language": "python",
   "name": "python3"
  },
  "language_info": {
   "codemirror_mode": {
    "name": "ipython",
    "version": 3
   },
   "file_extension": ".py",
   "mimetype": "text/x-python",
   "name": "python",
   "nbconvert_exporter": "python",
   "pygments_lexer": "ipython3",
   "version": "3.9.7"
  }
 },
 "nbformat": 4,
 "nbformat_minor": 5
}
